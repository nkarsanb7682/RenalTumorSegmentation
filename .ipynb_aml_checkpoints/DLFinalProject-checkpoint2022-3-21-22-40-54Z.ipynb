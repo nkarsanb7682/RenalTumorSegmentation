{
  "cells": [
    {
      "cell_type": "markdown",
      "source": [
        "# DL Final Project"
      ],
      "metadata": {
        "nteract": {
          "transient": {
            "deleting": false
          }
        }
      }
    },
    {
      "cell_type": "code",
      "source": [
        "from models import transunet\n",
        "from data_processing.data_parser import DataReader\n",
        "from experiments.config import get_transunet "
      ],
      "outputs": [],
      "execution_count": 10,
      "metadata": {
        "jupyter": {
          "source_hidden": false,
          "outputs_hidden": false
        },
        "nteract": {
          "transient": {
            "deleting": false
          }
        },
        "gather": {
          "logged": 1650387932692
        }
      }
    },
    {
      "cell_type": "code",
      "source": [
        "## Prepare data \n",
        "dr = DataReader(src_path=\"YOUR_SRC_PATH\", height=224, width=224, depth=3)\n",
        "training_dataset, validation_dataset = dr.get_dataset_training(image_size=224)\n",
        "## Train Model \n",
        "config = get_transunet()\n",
        "transunet = TransUnet(config)\n",
        "transunet.compile()\n",
        "history = transunet.train_validate(training_dataset, validation_dataset, save_path, epochs=150)"
      ],
      "outputs": [
        {
          "output_type": "error",
          "ename": "ImportError",
          "evalue": "cannot import name 'transunet' from 'models.transunet' (/mnt/batch/tasks/shared/LS_root/mounts/clusters/neka48361/code/Users/neka4836/RenalTumorSegmentation/models/transunet.py)",
          "traceback": [
            "\u001b[0;31m---------------------------------------------------------------------------\u001b[0m",
            "\u001b[0;31mImportError\u001b[0m                               Traceback (most recent call last)",
            "\u001b[0;32m<ipython-input-6-3517040cbb0c>\u001b[0m in \u001b[0;36m<module>\u001b[0;34m\u001b[0m\n\u001b[0;32m----> 1\u001b[0;31m \u001b[0;32mfrom\u001b[0m \u001b[0mmodels\u001b[0m\u001b[0;34m.\u001b[0m\u001b[0mtransunet\u001b[0m \u001b[0;32mimport\u001b[0m \u001b[0mtransunet\u001b[0m\u001b[0;34m\u001b[0m\u001b[0;34m\u001b[0m\u001b[0m\n\u001b[0m",
            "\u001b[0;31mImportError\u001b[0m: cannot import name 'transunet' from 'models.transunet' (/mnt/batch/tasks/shared/LS_root/mounts/clusters/neka48361/code/Users/neka4836/RenalTumorSegmentation/models/transunet.py)"
          ]
        }
      ],
      "execution_count": 6,
      "metadata": {
        "jupyter": {
          "source_hidden": false,
          "outputs_hidden": false
        },
        "nteract": {
          "transient": {
            "deleting": false
          }
        },
        "gather": {
          "logged": 1650387878765
        }
      }
    },
    {
      "cell_type": "code",
      "source": [],
      "outputs": [],
      "execution_count": null,
      "metadata": {
        "jupyter": {
          "source_hidden": false,
          "outputs_hidden": false
        },
        "nteract": {
          "transient": {
            "deleting": false
          }
        }
      }
    }
  ],
  "metadata": {
    "kernelspec": {
      "name": "python38-azureml",
      "language": "python",
      "display_name": "Python 3.8 - AzureML"
    },
    "language_info": {
      "name": "python",
      "version": "3.8.5",
      "mimetype": "text/x-python",
      "codemirror_mode": {
        "name": "ipython",
        "version": 3
      },
      "pygments_lexer": "ipython3",
      "nbconvert_exporter": "python",
      "file_extension": ".py"
    },
    "kernel_info": {
      "name": "python38-azureml"
    },
    "microsoft": {
      "host": {
        "AzureML": {
          "notebookHasBeenCompleted": true
        }
      }
    },
    "nteract": {
      "version": "nteract-front-end@1.0.0"
    }
  },
  "nbformat": 4,
  "nbformat_minor": 2
}