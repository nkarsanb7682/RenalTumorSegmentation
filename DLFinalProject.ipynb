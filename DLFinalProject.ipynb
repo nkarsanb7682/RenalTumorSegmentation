{
  "cells": [
    {
      "cell_type": "markdown",
      "source": [
        "# DL Final Project"
      ],
      "metadata": {
        "nteract": {
          "transient": {
            "deleting": false
          }
        }
      }
    },
    {
      "cell_type": "code",
      "source": [
        "from models.transunet import TransUnet\n",
        "from data_processing.data_parser import DataReader\n",
        "from experiments.config import get_transunet\n",
        "import tensorflow as tf\n",
        "import numpy as np"
      ],
      "outputs": [],
      "execution_count": 88,
      "metadata": {
        "jupyter": {
          "source_hidden": false,
          "outputs_hidden": false
        },
        "nteract": {
          "transient": {
            "deleting": false
          }
        },
        "gather": {
          "logged": 1650752365458
        }
      }
    },
    {
      "cell_type": "code",
      "source": [
        "X_train = np.load(\"./sampleData/trainInputsSample224.npy\")\n",
        "y_train = np.load(\"./sampleData/trainOutputsSample224.npy\")\n",
        "X_test = np.load(\"./sampleData/testInputsSample224.npy\")\n",
        "y_test = np.load(\"./sampleData/testOutputsSample224.npy\")"
      ],
      "outputs": [],
      "execution_count": 84,
      "metadata": {
        "jupyter": {
          "source_hidden": false,
          "outputs_hidden": false
        },
        "nteract": {
          "transient": {
            "deleting": false
          }
        },
        "gather": {
          "logged": 1650750699674
        }
      }
    },
    {
      "cell_type": "code",
      "source": [
        "## Train Model\n",
        "config = get_transunet()\n",
        "# config.image_size = 512\n",
        "# config.decoder_channels = [512, 256, 128, 64]\n",
        "# config.n_skip = 6\n",
        "config.filters = 3\n",
        "print(config.image_size)\n",
        "transunet = TransUnet(config)\n",
        "transunet.compile()\n",
        "#history = transunet.train_validate(training_dataset, validation_dataset, save_path, epochs=150)"
      ],
      "outputs": [
        {
          "output_type": "stream",
          "name": "stdout",
          "text": "224\n"
        }
      ],
      "execution_count": 85,
      "metadata": {
        "jupyter": {
          "source_hidden": false,
          "outputs_hidden": false
        },
        "nteract": {
          "transient": {
            "deleting": false
          }
        },
        "gather": {
          "logged": 1650750708339
        }
      }
    },
    {
      "cell_type": "code",
      "source": [
        "transunet.model.fit(X_train.astype(\"float32\"), y_train.astype(\"float32\"))"
      ],
      "outputs": [],
      "execution_count": 86,
      "metadata": {
        "jupyter": {
          "source_hidden": false,
          "outputs_hidden": false
        },
        "nteract": {
          "transient": {
            "deleting": false
          }
        },
        "gather": {
          "logged": 1650752351477
        }
      }
    },
    {
      "cell_type": "code",
      "source": [
        "sess = tf.compat.v1.Session(config=tf.compat.v1.ConfigProto(log_device_placement=True))"
      ],
      "outputs": [
        {
          "output_type": "stream",
          "name": "stdout",
          "text": "Device mapping: no known devices.\n"
        }
      ],
      "execution_count": 90,
      "metadata": {
        "jupyter": {
          "source_hidden": false,
          "outputs_hidden": false
        },
        "nteract": {
          "transient": {
            "deleting": false
          }
        },
        "gather": {
          "logged": 1650752382250
        }
      }
    },
    {
      "cell_type": "code",
      "source": [
        "print(type(X_train[0][0][0][0]))\n",
        "print(type(y_train[0][0][0][0]))"
      ],
      "outputs": [],
      "execution_count": null,
      "metadata": {
        "jupyter": {
          "source_hidden": false,
          "outputs_hidden": false
        },
        "nteract": {
          "transient": {
            "deleting": false
          }
        },
        "gather": {
          "logged": 1650749445655
        }
      }
    },
    {
      "cell_type": "code",
      "source": [],
      "outputs": [],
      "execution_count": null,
      "metadata": {
        "jupyter": {
          "source_hidden": false,
          "outputs_hidden": false
        },
        "nteract": {
          "transient": {
            "deleting": false
          }
        }
      }
    }
  ],
  "metadata": {
    "kernelspec": {
      "name": "python38-azureml",
      "language": "python",
      "display_name": "Python 3.8 - AzureML"
    },
    "language_info": {
      "name": "python",
      "version": "3.8.5",
      "mimetype": "text/x-python",
      "codemirror_mode": {
        "name": "ipython",
        "version": 3
      },
      "pygments_lexer": "ipython3",
      "nbconvert_exporter": "python",
      "file_extension": ".py"
    },
    "kernel_info": {
      "name": "python38-azureml"
    },
    "microsoft": {
      "host": {
        "AzureML": {
          "notebookHasBeenCompleted": true
        }
      }
    },
    "nteract": {
      "version": "nteract-front-end@1.0.0"
    }
  },
  "nbformat": 4,
  "nbformat_minor": 2
}