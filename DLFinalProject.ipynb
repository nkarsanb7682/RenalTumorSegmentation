{
  "cells": [
    {
      "cell_type": "markdown",
      "source": [
        "# DL Final Project"
      ],
      "metadata": {
        "nteract": {
          "transient": {
            "deleting": false
          }
        }
      }
    },
    {
      "cell_type": "code",
      "source": [
        "from models.transunet import TransUnet\n",
        "from data_processing.data_parser import DataReader\n",
        "from experiments.config import get_transunet\n",
        "import tensorflow as tf\n",
        "import numpy as np\n",
        "import matplotlib.pyplot as plt"
      ],
      "outputs": [],
      "execution_count": 1,
      "metadata": {
        "jupyter": {
          "source_hidden": false,
          "outputs_hidden": false
        },
        "nteract": {
          "transient": {
            "deleting": false
          }
        },
        "gather": {
          "logged": 1650768226927
        }
      }
    },
    {
      "cell_type": "code",
      "source": [
        "X = np.load(\"./sampleData/trainInputsSample224.npy\")\n",
        "y = np.load(\"./sampleData/trainOutputsSample224.npy\")\n",
        "X_train = X.astype(\"float32\")\n",
        "y_train = y.astype(\"float32\")\n",
        "X_val = X[int(len(X)*.7):]\n",
        "y_val = y[int(len(y)*.7):]\n",
        "X_test = np.load(\"./sampleData/testInputsSample224.npy\")\n",
        "y_test = np.load(\"./sampleData/testOutputsSample224.npy\")"
      ],
      "outputs": [],
      "execution_count": 3,
      "metadata": {
        "jupyter": {
          "source_hidden": false,
          "outputs_hidden": false
        },
        "nteract": {
          "transient": {
            "deleting": false
          }
        },
        "gather": {
          "logged": 1650768466922
        }
      }
    },
    {
      "cell_type": "code",
      "source": [
        "## Train Model\n",
        "config = get_transunet()\n",
        "# config.image_size = 512\n",
        "# config.decoder_channels = [512, 256, 128, 64]\n",
        "# config.n_skip = 6\n",
        "config.image_size = 224\n",
        "config.filters = 3\n",
        "print(config.image_size)\n",
        "transunet = TransUnet(config)\n",
        "transunet.compile()\n",
        "#history = transunet.train_validate(training_dataset, validation_dataset, save_path, epochs=150)"
      ],
      "outputs": [
        {
          "output_type": "stream",
          "name": "stdout",
          "text": "224\n"
        }
      ],
      "execution_count": 4,
      "metadata": {
        "jupyter": {
          "source_hidden": false,
          "outputs_hidden": false
        },
        "nteract": {
          "transient": {
            "deleting": false
          }
        },
        "gather": {
          "logged": 1650768492477
        }
      }
    },
    {
      "cell_type": "code",
      "source": [
        "history = transunet.model.fit(x=X_train[:40].astype(\"float32\"), y=y_train[:40].astype(\"float32\"), validation_data=(X_val.astype(\"float32\"), y_val.astype(\"float32\")), epochs=5, batch_size=20, verbose=1)"
      ],
      "outputs": [
        {
          "output_type": "stream",
          "name": "stdout",
          "text": "Epoch 1/5\n***************** (None, 224, 224, 3)\n&&&&&&&&&&&&&&&&&& (None, 224, 224, 3)\n***************** (None, 224, 224, 3)\n&&&&&&&&&&&&&&&&&& (None, 224, 224, 3)\n"
        }
      ],
      "execution_count": 5,
      "metadata": {
        "jupyter": {
          "source_hidden": false,
          "outputs_hidden": false
        },
        "nteract": {
          "transient": {
            "deleting": false
          }
        },
        "gather": {
          "logged": 1650764281184
        }
      }
    },
    {
      "cell_type": "code",
      "source": [
        "plt.figure()\n",
        "plt.plot(history.history[\"loss\"], label=\"training loss\")\n",
        "plt.plot(history.history[\"val_loss\"], label=\"validation loss\")\n",
        "plt.title(f\"Loss for model\")\n",
        "plt.xlabel(\"Epoch\")\n",
        "plt.ylabel(\"Loss\")\n",
        "plt.legend()\n",
        "plt.show()"
      ],
      "outputs": [],
      "execution_count": null,
      "metadata": {
        "jupyter": {
          "source_hidden": false,
          "outputs_hidden": false
        },
        "nteract": {
          "transient": {
            "deleting": false
          }
        },
        "gather": {
          "logged": 1650764281474
        }
      }
    },
    {
      "cell_type": "code",
      "source": [],
      "outputs": [],
      "execution_count": null,
      "metadata": {
        "jupyter": {
          "source_hidden": false,
          "outputs_hidden": false
        },
        "nteract": {
          "transient": {
            "deleting": false
          }
        },
        "gather": {
          "logged": 1650763518956
        }
      }
    },
    {
      "cell_type": "code",
      "source": [],
      "outputs": [],
      "execution_count": null,
      "metadata": {
        "jupyter": {
          "source_hidden": false,
          "outputs_hidden": false
        },
        "nteract": {
          "transient": {
            "deleting": false
          }
        },
        "gather": {
          "logged": 1650763519980
        }
      }
    },
    {
      "cell_type": "code",
      "source": [
        "from PIL import Image as im\n",
        "data = im.fromarray(y_test[0])\n",
        "      \n",
        "# saving the final output \n",
        "# as a PNG file\n",
        "data.save('gfg_dummy_pic.png')"
      ],
      "outputs": [],
      "execution_count": null,
      "metadata": {
        "jupyter": {
          "source_hidden": false,
          "outputs_hidden": false
        },
        "nteract": {
          "transient": {
            "deleting": false
          }
        },
        "gather": {
          "logged": 1650764417422
        }
      }
    },
    {
      "cell_type": "code",
      "source": [
        "print(y_train.shape)"
      ],
      "outputs": [],
      "execution_count": null,
      "metadata": {
        "jupyter": {
          "source_hidden": false,
          "outputs_hidden": false
        },
        "nteract": {
          "transient": {
            "deleting": false
          }
        },
        "gather": {
          "logged": 1650768183453
        }
      }
    },
    {
      "cell_type": "code",
      "source": [],
      "outputs": [],
      "execution_count": null,
      "metadata": {
        "jupyter": {
          "source_hidden": false,
          "outputs_hidden": false
        },
        "nteract": {
          "transient": {
            "deleting": false
          }
        }
      }
    }
  ],
  "metadata": {
    "kernelspec": {
      "name": "python38-azureml",
      "language": "python",
      "display_name": "Python 3.8 - AzureML"
    },
    "language_info": {
      "name": "python",
      "version": "3.8.5",
      "mimetype": "text/x-python",
      "codemirror_mode": {
        "name": "ipython",
        "version": 3
      },
      "pygments_lexer": "ipython3",
      "nbconvert_exporter": "python",
      "file_extension": ".py"
    },
    "kernel_info": {
      "name": "python38-azureml"
    },
    "microsoft": {
      "host": {
        "AzureML": {
          "notebookHasBeenCompleted": true
        }
      }
    },
    "nteract": {
      "version": "nteract-front-end@1.0.0"
    }
  },
  "nbformat": 4,
  "nbformat_minor": 2
}